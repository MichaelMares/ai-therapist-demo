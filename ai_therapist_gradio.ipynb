{
  "cells": [
    {
      "cell_type": "markdown",
      "metadata": {
        "id": "view-in-github",
        "colab_type": "text"
      },
      "source": [
        "<a href=\"https://colab.research.google.com/github/MichaelMares/ai-therapist-demo/blob/main/ai_therapist_demo%5Bsharing%5D.ipynb\" target=\"_parent\"><img src=\"https://colab.research.google.com/assets/colab-badge.svg\" alt=\"Open In Colab\"/></a>"
      ]
    },
    {
      "cell_type": "code",
      "execution_count": null,
      "metadata": {
        "id": "FWO-gsmURQuw",
        "cellView": "form"
      },
      "outputs": [],
      "source": [
        "#@title Install necessary libraries\n",
        "#@markdown ◀️ Press play button\n",
        "\n",
        "!pip install gradio\n",
        "!pip install openai\n",
        "!pip install python-magic"
      ]
    },
    {
      "cell_type": "code",
      "execution_count": null,
      "metadata": {
        "cellView": "form",
        "id": "rk4WWm4UP9cz"
      },
      "outputs": [],
      "source": [
        "#@title Set your own auth keys\n",
        "OPENAI_API_KEY = \"sk-\" #@param{type:\"string\"}\n",
        "#@markdown Get your developer token at: https://platform.openai.com/\n",
        "ElevenLabs_API_KEY = \"\" #@param{type:\"string\"}\n",
        "#@markdown Get your developer token for text-to-speech at: https://beta.elevenlabs.io/\n",
        "\n",
        "#@markdown Innitial prompt for the model\n",
        "MODEL_PROMPT = \"You are a therapist. Be compassionate but also very honest and open about your intuitions. Ask me a lots of questions.\" #@param{type: \"string\"}\n",
        "config = {\n",
        "    \"api_key\":OPENAI_API_KEY,\n",
        "    \"xi-api-key\":ElevenLabs_API_KEY,\n",
        "    \"initial_prompt\":MODEL_PROMPT\n",
        "}"
      ]
    },
    {
      "cell_type": "code",
      "execution_count": null,
      "metadata": {
        "id": "wikPTvh0P50S",
        "cellView": "form"
      },
      "outputs": [],
      "source": [
        "#@title Run the application\n",
        "#@markdown In this section, you do not need to change anything, you can simply press the play button and the AI Therapy will start 📝\n",
        "\n",
        "import gradio as gr\n",
        "import openai, subprocess\n",
        "from pydub import AudioSegment\n",
        "from pydub.playback import play\n",
        "import requests\n",
        "import json\n",
        "from IPython.display import Audio\n",
        "import numpy as np\n",
        "import os\n",
        "import io\n",
        "import magic\n",
        "\n",
        "openai.api_key = config['api_key']\n",
        "\n",
        "def generate_voiceover(content):\n",
        "    url = \"https://api.elevenlabs.io/v1/text-to-speech/EXAVITQu4vr4xnSDxMaL\"\n",
        "    headers = {\n",
        "        \"accept\" : \"audio/mpeg\",\n",
        "        \"Content-Type\": \"application/json\",\n",
        "        \"xi-api-key\": config['xi-api-key']\n",
        "    }\n",
        "    payload = {\n",
        "        \"text\": content,\n",
        "        \"voice_settings\":{\n",
        "            \"stability\": 0.9,\n",
        "            \"similarity_boost\": 1\n",
        "        }\n",
        "    }\n",
        "    response = requests.post(url, headers=headers, data=json.dumps(payload))\n",
        "    if response.status_code == 200:\n",
        "        audio_bytes = io.BytesIO(response.content)\n",
        "        audio_segment = AudioSegment.from_file(audio_bytes)\n",
        "        sample_rate = audio_segment.frame_rate\n",
        "        audio_array = np.array(audio_segment.get_array_of_samples())\n",
        "        audio_tuple = (sample_rate, audio_array)\n",
        "        return audio_tuple\n",
        "    else:\n",
        "        raise Exception(\"Failed to generate voiceover. Status code: \" + str(response.status_code))\n",
        "\n",
        "\n",
        "messages = [{\"role\": \"system\", \"content\": config['initial_prompt']}]\n",
        "\n",
        "def transcribe(audio):\n",
        "    global messages\n",
        "     \n",
        "    audio_segment = AudioSegment.from_file(audio).export(\"converted_audio.wav\", format=\"wav\")   \n",
        "    with open(\"converted_audio.wav\", \"rb\") as audio:\n",
        "        transcript = openai.Audio.transcribe('whisper-1', audio)\n",
        "    messages.append({\"role\": \"user\", \"content\": transcript[\"text\"]})\n",
        "\n",
        "    response = openai.ChatCompletion.create(model=\"gpt-3.5-turbo\", messages=messages)\n",
        "\n",
        "    system_message = response[\"choices\"][0][\"message\"]\n",
        "    print(system_message)\n",
        "    messages.append(system_message)\n",
        "    print('Sending request to voiceover service')\n",
        "    voice = generate_voiceover(system_message['content'])\n",
        "    print('Response received')\n",
        "    chat_transcript = \"\"\n",
        "    \n",
        "    for message in messages:\n",
        "        if message['role'] != 'system':\n",
        "            chat_transcript += message['role'] + \": \" + message['content'] + \"\\n\\n\"\n",
        "    \n",
        "    \n",
        "    return chat_transcript, voice\n",
        "\n",
        "ui = gr.Interface(\n",
        "    fn=transcribe,\n",
        "    inputs=gr.Audio(source=\"microphone\", type=\"filepath\", label = \"What's on your mind?\"),\n",
        "    outputs=[\"text\", \"audio\"],\n",
        "    live = True,\n",
        "    title=\"Therapy Chatbot ❤️\",\n",
        "    description=\"Talk to the chatbot as if you were in a therapy session. It will try to respond as a therapist would.\",\n",
        "    article=\"This is an example of a chatbot that uses GPT-3 to generate responses. When clicking 'clear', your logs are saved and will be displayed in the next response\",\n",
        "    allow_flagging= \"never\"\n",
        "    ).launch(debug = True)"
      ]
    }
  ],
  "metadata": {
    "colab": {
      "provenance": [],
      "include_colab_link": true
    },
    "kernelspec": {
      "display_name": "Python 3",
      "name": "python3"
    },
    "language_info": {
      "name": "python"
    }
  },
  "nbformat": 4,
  "nbformat_minor": 0
}
